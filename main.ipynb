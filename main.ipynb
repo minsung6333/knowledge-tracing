{
 "cells": [
  {
   "cell_type": "code",
   "execution_count": 1,
   "id": "bb8ff816-046c-4702-ae58-11c4d6680a44",
   "metadata": {},
   "outputs": [],
   "source": [
    "from configs import *\n",
    "from datautils import *\n",
    "from models import *\n",
    "from utils import *\n",
    "from trainers import *\n",
    "\n",
    "from abc import *\n",
    "import os\n",
    "import numpy as np\n",
    "import joblib\n",
    "import warnings\n",
    "\n",
    "warnings.filterwarnings('ignore')"
   ]
  },
  {
   "cell_type": "code",
   "execution_count": 1,
   "id": "906fe04d-6ed3-435e-9f7c-294ca54e0b2b",
   "metadata": {},
   "outputs": [],
   "source": [
    "# # main\n",
    "\n",
    "# seq_data = joblib.load('./loader_sets.pkl')['TD']\n",
    "# cfg = CONFIGS()\n",
    "# sdl = SASDataloader(cfg, seq_data)\n",
    "# train_loader, val_loader, test_loader, infer_loader = sdl.get_pytorch_dataloaders()\n",
    "# cfg.update_num_items(num_items=train_loader.dataset.num_items)\n",
    "# model = LRU(cfg)\n",
    "# trainer = LRUTrainer(cfg, model, train_loader, val_loader, test_loader, infer_loader, export_root = './')\n",
    "# trainer.train()\n",
    "# trainer.test()\n",
    "# trainer.infer()"
   ]
  },
  {
   "cell_type": "code",
   "execution_count": null,
   "id": "f62d4a4e-3d2c-4b80-962e-5d9dca5713ff",
   "metadata": {},
   "outputs": [],
   "source": [
    "# score_arr = np.array(torch.cat([v.cpu() for v in trainer.inference_result.values()]))\n",
    "# joblib.dump(score_arr, './lru_score_td_231109_v2.pkl')"
   ]
  },
  {
   "cell_type": "code",
   "execution_count": null,
   "id": "481d898c-9c33-4d3b-b8b7-124d093e3e43",
   "metadata": {},
   "outputs": [],
   "source": []
  },
  {
   "cell_type": "code",
   "execution_count": null,
   "id": "7a9d4747-c100-4f15-8e43-88041b728645",
   "metadata": {},
   "outputs": [],
   "source": []
  },
  {
   "cell_type": "code",
   "execution_count": null,
   "id": "62e78308-136d-4f9b-8ca7-cfac878de4e0",
   "metadata": {},
   "outputs": [],
   "source": []
  },
  {
   "cell_type": "code",
   "execution_count": null,
   "id": "bee6a9b0-0cac-4ca3-9bca-faa5ac18ced2",
   "metadata": {},
   "outputs": [],
   "source": []
  }
 ],
 "metadata": {
  "kernelspec": {
   "display_name": "Python 3 (ipykernel)",
   "language": "python",
   "name": "python3"
  },
  "language_info": {
   "codemirror_mode": {
    "name": "ipython",
    "version": 3
   },
   "file_extension": ".py",
   "mimetype": "text/x-python",
   "name": "python",
   "nbconvert_exporter": "python",
   "pygments_lexer": "ipython3",
   "version": "3.8.10"
  }
 },
 "nbformat": 4,
 "nbformat_minor": 5
}
